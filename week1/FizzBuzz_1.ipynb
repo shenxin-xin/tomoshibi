{
  "nbformat": 4,
  "nbformat_minor": 0,
  "metadata": {
    "colab": {
      "provenance": []
    },
    "kernelspec": {
      "name": "python3",
      "display_name": "Python 3"
    },
    "language_info": {
      "name": "python"
    }
  },
  "cells": [
    {
      "cell_type": "code",
      "execution_count": 2,
      "metadata": {
        "colab": {
          "base_uri": "https://localhost:8080/"
        },
        "id": "rqPITeyQ83bm",
        "outputId": "c6cb0c65-86a1-4c25-859e-16531f809b11"
      },
      "outputs": [
        {
          "output_type": "stream",
          "name": "stdout",
          "text": [
            "[1, 2, 'Multiple of 3', 4, 5, 'Multiple of 3', 7, 8, 'Multiple of 3', 10, 11, 'Multiple of 3', 13, 14, 'Multiple of 3', 16, 17, 'Multiple of 3', 19, 20]\n"
          ]
        }
      ],
      "source": [
        "list = []\n",
        "for n in range(1,21):\n",
        "  if n%3 == 0:\n",
        "    list.append(\"Multiple of 3\")\n",
        "  else:\n",
        "    list.append(n)\n",
        "print(list)"
      ]
    },
    {
      "cell_type": "code",
      "source": [
        "fblist = []\n",
        "for n in range(1,101):\n",
        "  if n%3 == 0 and n%5 == 0:\n",
        "    fblist.append(\"FizzBuzz\")\n",
        "  elif n%3 == 0:\n",
        "    fblist.append(\"Fizz\")\n",
        "  elif n%5 == 0:\n",
        "    fblist.append(\"Buzz\")\n",
        "  else:\n",
        "    fblist.append(n)\n",
        "print(fblist)"
      ],
      "metadata": {
        "colab": {
          "base_uri": "https://localhost:8080/"
        },
        "id": "TI9iLVngE6aI",
        "outputId": "8a5a7229-e4cf-4199-d0d9-d6b2b0ff7c7d"
      },
      "execution_count": 4,
      "outputs": [
        {
          "output_type": "stream",
          "name": "stdout",
          "text": [
            "[1, 2, 'Fizz', 4, 'Buzz', 'Fizz', 7, 8, 'Fizz', 'Buzz', 11, 'Fizz', 13, 14, 'FizzBuzz', 16, 17, 'Fizz', 19, 'Buzz', 'Fizz', 22, 23, 'Fizz', 'Buzz', 26, 'Fizz', 28, 29, 'FizzBuzz', 31, 32, 'Fizz', 34, 'Buzz', 'Fizz', 37, 38, 'Fizz', 'Buzz', 41, 'Fizz', 43, 44, 'FizzBuzz', 46, 47, 'Fizz', 49, 'Buzz', 'Fizz', 52, 53, 'Fizz', 'Buzz', 56, 'Fizz', 58, 59, 'FizzBuzz', 61, 62, 'Fizz', 64, 'Buzz', 'Fizz', 67, 68, 'Fizz', 'Buzz', 71, 'Fizz', 73, 74, 'FizzBuzz', 76, 77, 'Fizz', 79, 'Buzz', 'Fizz', 82, 83, 'Fizz', 'Buzz', 86, 'Fizz', 88, 89, 'FizzBuzz', 91, 92, 'Fizz', 94, 'Buzz', 'Fizz', 97, 98, 'Fizz', 'Buzz']\n"
          ]
        }
      ]
    },
    {
      "cell_type": "code",
      "source": [
        "def generate_fizzbuzz(max_num):\n",
        "  fblist = []\n",
        "  for n in range(1,max_num+1):\n",
        "    if n%3 == 0 and n%5 == 0:\n",
        "      fblist.append(\"FizzBuzz\")\n",
        "    elif n%3 == 0:\n",
        "      fblist.append(\"Fizz\")\n",
        "    elif n%5 == 0:\n",
        "      fblist.append(\"Buzz\")\n",
        "    else:\n",
        "      fblist.append(n)\n",
        "  return(fblist)\n",
        "print(generate_fizzbuzz(100))"
      ],
      "metadata": {
        "colab": {
          "base_uri": "https://localhost:8080/"
        },
        "id": "TD967bHqFyJq",
        "outputId": "2c42b4f4-61d9-4de7-d772-e62c10ac9d95"
      },
      "execution_count": 6,
      "outputs": [
        {
          "output_type": "stream",
          "name": "stdout",
          "text": [
            "[1, 2, 'Fizz', 4, 'Buzz', 'Fizz', 7, 8, 'Fizz', 'Buzz', 11, 'Fizz', 13, 14, 'FizzBuzz', 16, 17, 'Fizz', 19, 'Buzz', 'Fizz', 22, 23, 'Fizz', 'Buzz', 26, 'Fizz', 28, 29, 'FizzBuzz', 31, 32, 'Fizz', 34, 'Buzz', 'Fizz', 37, 38, 'Fizz', 'Buzz', 41, 'Fizz', 43, 44, 'FizzBuzz', 46, 47, 'Fizz', 49, 'Buzz', 'Fizz', 52, 53, 'Fizz', 'Buzz', 56, 'Fizz', 58, 59, 'FizzBuzz', 61, 62, 'Fizz', 64, 'Buzz', 'Fizz', 67, 68, 'Fizz', 'Buzz', 71, 'Fizz', 73, 74, 'FizzBuzz', 76, 77, 'Fizz', 79, 'Buzz', 'Fizz', 82, 83, 'Fizz', 'Buzz', 86, 'Fizz', 88, 89, 'FizzBuzz', 91, 92, 'Fizz', 94, 'Buzz', 'Fizz', 97, 98, 'Fizz', 'Buzz']\n"
          ]
        }
      ]
    }
  ]
}