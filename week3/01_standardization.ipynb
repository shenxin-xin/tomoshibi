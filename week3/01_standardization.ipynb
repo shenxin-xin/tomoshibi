{
  "nbformat": 4,
  "nbformat_minor": 0,
  "metadata": {
    "colab": {
      "provenance": []
    },
    "kernelspec": {
      "name": "python3",
      "display_name": "Python 3"
    },
    "language_info": {
      "name": "python"
    }
  },
  "cells": [
    {
      "cell_type": "code",
      "execution_count": 2,
      "metadata": {
        "colab": {
          "base_uri": "https://localhost:8080/"
        },
        "id": "4Vw-MUc8crv7",
        "outputId": "291a3560-185d-4fab-c745-360e5455e9af"
      },
      "outputs": [
        {
          "output_type": "stream",
          "name": "stdout",
          "text": [
            "元の2次元データ:\n",
            " [[ 1 10]\n",
            " [ 2 20]\n",
            " [ 3 30]]\n",
            "標準化された2次元データ（列ごと）:\n",
            " [[-1.22474487 -1.22474487]\n",
            " [ 0.          0.        ]\n",
            " [ 1.22474487  1.22474487]]\n"
          ]
        }
      ],
      "source": [
        "import numpy as np\n",
        "\n",
        "data_2d = np.array([[1, 10],\n",
        "                    [2, 20],\n",
        "                    [3, 30]])\n",
        "m = np.mean(data_2d, axis=0)\n",
        "s = np.std(data_2d, axis=0)\n",
        "\n",
        "standardized_data_2d = (data_2d-m)/s\n",
        "\n",
        "print(\"元の2次元データ:\\n\", data_2d)\n",
        "print(\"標準化された2次元データ（列ごと）:\\n\", standardized_data_2d)"
      ]
    }
  ]
}