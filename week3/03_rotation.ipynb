{
  "nbformat": 4,
  "nbformat_minor": 0,
  "metadata": {
    "colab": {
      "provenance": []
    },
    "kernelspec": {
      "name": "python3",
      "display_name": "Python 3"
    },
    "language_info": {
      "name": "python"
    }
  },
  "cells": [
    {
      "cell_type": "code",
      "execution_count": 1,
      "metadata": {
        "id": "xtaEDSf4iupq"
      },
      "outputs": [],
      "source": [
        "import numpy as np\n",
        "def rotation(before,theta):\n",
        "  r = np.array([[np.cos(theta),-np.sin(theta)],[np.sin(theta),np.cos(theta)]])\n",
        "  return np.dot(r,before)"
      ]
    },
    {
      "cell_type": "code",
      "source": [
        "before = np.array([1,0])\n",
        "theta = np.pi\n",
        "print(rotation(before,theta))"
      ],
      "metadata": {
        "colab": {
          "base_uri": "https://localhost:8080/"
        },
        "id": "6_0IYIstj3I9",
        "outputId": "0c6b63ee-d065-4481-9a06-fe12351cc34c"
      },
      "execution_count": 8,
      "outputs": [
        {
          "output_type": "stream",
          "name": "stdout",
          "text": [
            "[[-1.0000000e+00 -1.2246468e-16]\n",
            " [ 1.2246468e-16 -1.0000000e+00]]\n",
            "[-1.0000000e+00  1.2246468e-16]\n"
          ]
        }
      ]
    },
    {
      "cell_type": "code",
      "source": [],
      "metadata": {
        "id": "8GQAmx-9oIKY"
      },
      "execution_count": null,
      "outputs": []
    }
  ]
}