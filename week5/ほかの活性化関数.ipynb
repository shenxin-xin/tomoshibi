{
  "nbformat": 4,
  "nbformat_minor": 0,
  "metadata": {
    "colab": {
      "provenance": [],
      "gpuType": "T4"
    },
    "kernelspec": {
      "name": "python3",
      "display_name": "Python 3"
    },
    "language_info": {
      "name": "python"
    },
    "accelerator": "GPU"
  },
  "cells": [
    {
      "cell_type": "markdown",
      "source": [
        "relu:0.9033\n",
        "\n",
        "elu:0.9032 はじめの損失がreluより小さい\n",
        "\n",
        "logsigmoid:0.8371 あまり向いてない。損失の降下が遅い\n",
        "\n",
        "softmax:0.1135 全然できない\n",
        "\n",
        "sigmoid:0.1953 全然できない"
      ],
      "metadata": {
        "id": "L_8pzLwwEOHK"
      }
    },
    {
      "cell_type": "code",
      "source": [
        "import torch\n",
        "import torch.nn as nn\n",
        "import torch.nn.functional as F\n",
        "import torch.optim as optim\n",
        "import torchvision\n",
        "import torchvision.transforms as transforms"
      ],
      "metadata": {
        "id": "AawsYm8W9BVF"
      },
      "execution_count": 1,
      "outputs": []
    },
    {
      "cell_type": "code",
      "source": [
        "#各要素は画像データに対応するtorch.tensorとラベルからなる。\n",
        "'''\n",
        "root[str]: データの保存（または参照）場所\n",
        "train[bool]: Trueなら訓練データセット、Falseならテストデータセットを取得\n",
        "download[bool]: データがrootで指定したパスに存在しない場合、ダウンロードするかどうかを指定\n",
        "'''\n",
        "train_dataset = torchvision.datasets.MNIST(\n",
        "    root ='./data',\n",
        "    train=True,\n",
        "    transform=transforms.ToTensor(),\n",
        "    download=True,\n",
        ")\n",
        "\n",
        "test_dataset = torchvision.datasets.MNIST(\n",
        "    root ='./data',\n",
        "    train=False,\n",
        "    transform=transforms.ToTensor(),\n",
        "    download=True,\n",
        ")"
      ],
      "metadata": {
        "id": "kUgcfl1DKiPj",
        "colab": {
          "base_uri": "https://localhost:8080/"
        },
        "outputId": "031f4be9-334a-49e4-f96e-0348f8482ff1"
      },
      "execution_count": 2,
      "outputs": [
        {
          "output_type": "stream",
          "name": "stderr",
          "text": [
            "100%|██████████| 9.91M/9.91M [00:00<00:00, 16.2MB/s]\n",
            "100%|██████████| 28.9k/28.9k [00:00<00:00, 477kB/s]\n",
            "100%|██████████| 1.65M/1.65M [00:00<00:00, 3.85MB/s]\n",
            "100%|██████████| 4.54k/4.54k [00:00<00:00, 6.75MB/s]\n"
          ]
        }
      ]
    },
    {
      "cell_type": "code",
      "source": [
        "batch_size = 256\n",
        "\n",
        "train_loader = torch.utils.data.DataLoader(dataset=train_dataset,\n",
        "                                           batch_size=batch_size,\n",
        "                                           shuffle=True)\n",
        "\n",
        "test_loader = torch.utils.data.DataLoader(dataset=test_dataset,\n",
        "                                           batch_size=batch_size,\n",
        "                                           shuffle=True)\n"
      ],
      "metadata": {
        "id": "l30C6NBYKahU"
      },
      "execution_count": 6,
      "outputs": []
    },
    {
      "cell_type": "code",
      "source": [
        "class Net(nn.Module):\n",
        "    def __init__(self, input_size, hidden1_size, hidden2_size, output_size):\n",
        "        super(Net, self).__init__()\n",
        "        self.fc1 = nn.Linear(input_size, hidden1_size)\n",
        "        self.fc2 = nn.Linear(hidden1_size, hidden2_size)\n",
        "        self.fc3 = nn.Linear(hidden2_size, output_size)\n",
        "\n",
        "    def forward(self, x): # x : 入力\n",
        "        z1 = F.relu(self.fc1(x))\n",
        "        z2 = F.relu(self.fc2(z1))\n",
        "        y = self.fc3(z2)\n",
        "        return y\n"
      ],
      "metadata": {
        "id": "HbSoBHcMK1l1"
      },
      "execution_count": 67,
      "outputs": []
    },
    {
      "cell_type": "code",
      "source": [
        "class Net(nn.Module):\n",
        "    def __init__(self, input_size, hidden1_size, hidden2_size, output_size):\n",
        "        super(Net, self).__init__()\n",
        "        self.fc1 = nn.Linear(input_size, hidden1_size)\n",
        "        self.fc2 = nn.Linear(hidden1_size, hidden2_size)\n",
        "        self.fc3 = nn.Linear(hidden2_size, output_size)\n",
        "\n",
        "    def forward(self, x): # x : 入力\n",
        "        z1 = F.elu(self.fc1(x))\n",
        "        z2 = F.elu(self.fc2(z1))\n",
        "        y = self.fc3(z2)\n",
        "        return y"
      ],
      "metadata": {
        "id": "yJneyVrhEbXu"
      },
      "execution_count": 19,
      "outputs": []
    },
    {
      "cell_type": "code",
      "source": [
        "class Net(nn.Module):\n",
        "    def __init__(self, input_size, hidden1_size, hidden2_size, output_size):\n",
        "        super(Net, self).__init__()\n",
        "        self.fc1 = nn.Linear(input_size, hidden1_size)\n",
        "        self.fc2 = nn.Linear(hidden1_size, hidden2_size)\n",
        "        self.fc3 = nn.Linear(hidden2_size, output_size)\n",
        "\n",
        "    def forward(self, x): # x : 入力\n",
        "        z1 = F.logsigmoid(self.fc1(x))\n",
        "        z2 = F.logsigmoid(self.fc2(z1))\n",
        "        y = self.fc3(z2)\n",
        "        return y"
      ],
      "metadata": {
        "id": "G2xzJckWFaY1"
      },
      "execution_count": 31,
      "outputs": []
    },
    {
      "cell_type": "code",
      "source": [
        "class Net(nn.Module):\n",
        "    def __init__(self, input_size, hidden1_size, hidden2_size, output_size):\n",
        "        super(Net, self).__init__()\n",
        "        self.fc1 = nn.Linear(input_size, hidden1_size)\n",
        "        self.fc2 = nn.Linear(hidden1_size, hidden2_size)\n",
        "        self.fc3 = nn.Linear(hidden2_size, output_size)\n",
        "\n",
        "    def forward(self, x): # x : 入力\n",
        "        z1 = F.softmax(self.fc1(x))\n",
        "        z2 = F.softmax(self.fc2(z1))\n",
        "        y = self.fc3(z2)\n",
        "        return y"
      ],
      "metadata": {
        "id": "6UubGg8AGrrD"
      },
      "execution_count": 43,
      "outputs": []
    },
    {
      "cell_type": "code",
      "source": [
        "class Net(nn.Module):\n",
        "    def __init__(self, input_size, hidden1_size, hidden2_size, output_size):\n",
        "        super(Net, self).__init__()\n",
        "        self.fc1 = nn.Linear(input_size, hidden1_size)\n",
        "        self.fc2 = nn.Linear(hidden1_size, hidden2_size)\n",
        "        self.fc3 = nn.Linear(hidden2_size, output_size)\n",
        "\n",
        "    def forward(self, x): # x : 入力\n",
        "        z1 = F.sigmoid(self.fc1(x))\n",
        "        z2 = F.sigmoid(self.fc2(z1))\n",
        "        y = self.fc3(z2)\n",
        "        return y"
      ],
      "metadata": {
        "id": "K1upBLqQGeLo"
      },
      "execution_count": 55,
      "outputs": []
    },
    {
      "cell_type": "code",
      "source": [
        "input_size = 28*28\n",
        "hidden1_size = 1024\n",
        "hidden2_size = 512\n",
        "output_size = 10\n",
        "\n",
        "device = 'cuda' if torch.cuda.is_available() else 'cpu'\n",
        "model = Net(input_size, hidden1_size, hidden2_size, output_size).to(device)\n",
        "print(model)\n"
      ],
      "metadata": {
        "colab": {
          "base_uri": "https://localhost:8080/"
        },
        "id": "TRBniyPFK2ys",
        "outputId": "a8a88a9b-1a59-412a-d4cf-94fd3237bc0e"
      },
      "execution_count": 68,
      "outputs": [
        {
          "output_type": "stream",
          "name": "stdout",
          "text": [
            "Net(\n",
            "  (fc1): Linear(in_features=784, out_features=1024, bias=True)\n",
            "  (fc2): Linear(in_features=1024, out_features=512, bias=True)\n",
            "  (fc3): Linear(in_features=512, out_features=10, bias=True)\n",
            ")\n"
          ]
        }
      ]
    },
    {
      "cell_type": "code",
      "source": [
        "# 損失関数　criterion：基準\n",
        "# CrossEntropyLoss：交差エントロピー誤差関数\n",
        "criterion = nn.CrossEntropyLoss()\n",
        "\n",
        "# 最適化法の指定　optimizer：最適化\n",
        "# SGD：確率的勾配降下法\n",
        "optimizer = optim.SGD(model.parameters(), lr=0.01)\n"
      ],
      "metadata": {
        "id": "Qjsi_e9IK53x"
      },
      "execution_count": 69,
      "outputs": []
    },
    {
      "cell_type": "code",
      "source": [
        "def train_model(model, train_loader, criterion, optimizer, device='cpu'):\n",
        "\n",
        "    train_loss = 0.0\n",
        "    num_train = 0\n",
        "\n",
        "    # 学習モデルに変換\n",
        "    model.train()\n",
        "\n",
        "    for i, (images, labels) in enumerate(train_loader):\n",
        "        # batch数をカウント\n",
        "        num_train += len(labels)\n",
        "\n",
        "        images, labels = images.view(-1, 28*28).to(device), labels.to(device)\n",
        "\n",
        "        # 勾配を初期化\n",
        "        optimizer.zero_grad()\n",
        "\n",
        "        # 推論(順伝播)\n",
        "        outputs = model(images)\n",
        "\n",
        "        # 損失の算出\n",
        "        loss = criterion(outputs, labels)\n",
        "\n",
        "        # 誤差逆伝播\n",
        "        loss.backward()\n",
        "\n",
        "        # パラメータの更新\n",
        "        optimizer.step()\n",
        "\n",
        "        # lossを加算\n",
        "        train_loss += loss.item()\n",
        "\n",
        "    # lossの平均値を取る\n",
        "    train_loss = train_loss / num_train\n",
        "\n",
        "    return train_loss\n"
      ],
      "metadata": {
        "id": "-hf_K_0KK-qw"
      },
      "execution_count": 70,
      "outputs": []
    },
    {
      "cell_type": "code",
      "source": [
        "def test_model(model, test_loader, criterion, optimizer, device='cpu'):\n",
        "\n",
        "    test_loss = 0.0\n",
        "    num_test = 0\n",
        "\n",
        "    # modelを評価モードに変更\n",
        "    model.eval()\n",
        "\n",
        "    with torch.no_grad(): # 勾配計算の無効化\n",
        "        for i, (images, labels) in enumerate(test_loader):\n",
        "            num_test += len(labels)\n",
        "            images, labels = images.view(-1, 28*28).to(device), labels.to(device)\n",
        "            outputs = model(images)\n",
        "            loss = criterion(outputs, labels)\n",
        "            test_loss += loss.item()\n",
        "\n",
        "        # lossの平均値を取る\n",
        "        test_loss = test_loss / num_test\n",
        "    return test_loss\n"
      ],
      "metadata": {
        "id": "TgI7epgXLBHk"
      },
      "execution_count": 71,
      "outputs": []
    },
    {
      "cell_type": "code",
      "source": [
        "def learning(model, train_loader, test_loader, criterion, opimizer, num_epochs, device='cpu'):\n",
        "\n",
        "    train_loss_list = []\n",
        "    test_loss_list = []\n",
        "\n",
        "    # epoch数分繰り返す\n",
        "    for epoch in range(1, num_epochs+1, 1):\n",
        "\n",
        "        train_loss = train_model(model, train_loader, criterion, optimizer, device=device)\n",
        "        test_loss = test_model(model, test_loader, criterion, optimizer, device=device)\n",
        "\n",
        "        print(\"epoch : {}, train_loss : {:.5f}, test_loss : {:.5f}\" .format(epoch, train_loss, test_loss))\n",
        "\n",
        "        train_loss_list.append(train_loss)\n",
        "        test_loss_list.append(test_loss)\n",
        "\n",
        "    return train_loss_list, test_loss_list\n"
      ],
      "metadata": {
        "id": "DVNPMkA1LDmx"
      },
      "execution_count": 72,
      "outputs": []
    },
    {
      "cell_type": "code",
      "source": [
        "num_epochs = 10\n",
        "train_loss_list, test_loss_list = learning(model, train_loader, test_loader, criterion, optimizer, num_epochs, device=device)\n"
      ],
      "metadata": {
        "colab": {
          "base_uri": "https://localhost:8080/"
        },
        "id": "aoN-dJ4ILGRM",
        "outputId": "341f48d2-2d8b-4b94-ce86-0bc4f7d86f28"
      },
      "execution_count": 73,
      "outputs": [
        {
          "output_type": "stream",
          "name": "stdout",
          "text": [
            "epoch : 1, train_loss : 0.00869, test_loss : 0.00839\n",
            "epoch : 2, train_loss : 0.00717, test_loss : 0.00584\n",
            "epoch : 3, train_loss : 0.00445, test_loss : 0.00348\n",
            "epoch : 4, train_loss : 0.00291, test_loss : 0.00250\n",
            "epoch : 5, train_loss : 0.00226, test_loss : 0.00204\n",
            "epoch : 6, train_loss : 0.00193, test_loss : 0.00180\n",
            "epoch : 7, train_loss : 0.00173, test_loss : 0.00162\n",
            "epoch : 8, train_loss : 0.00160, test_loss : 0.00150\n",
            "epoch : 9, train_loss : 0.00151, test_loss : 0.00142\n",
            "epoch : 10, train_loss : 0.00144, test_loss : 0.00136\n"
          ]
        }
      ]
    },
    {
      "cell_type": "code",
      "source": [
        "plt.plot(range(len(train_loss_list)), train_loss_list, c='b', label='train loss')\n",
        "plt.plot(range(len(test_loss_list)), test_loss_list, c='r', label='test loss')\n",
        "plt.xlabel(\"epoch\")\n",
        "plt.ylabel(\"loss\")\n",
        "plt.legend()\n",
        "plt.grid()\n",
        "plt.show()\n"
      ],
      "metadata": {
        "colab": {
          "base_uri": "https://localhost:8080/",
          "height": 452
        },
        "id": "scKGYkB-LKDv",
        "outputId": "d837cc88-b5b4-4c58-a28f-77cc1305679e"
      },
      "execution_count": 74,
      "outputs": [
        {
          "output_type": "display_data",
          "data": {
            "text/plain": [
              "<Figure size 640x480 with 1 Axes>"
            ],
            "image/png": "[encoded data removed]"
          },
          "metadata": {}
        }
      ]
    },
    {
      "cell_type": "code",
      "source": [
        "plt.figure(figsize=(20, 10))\n",
        "for i in range(10):\n",
        "    image, label = test_dataset[i]\n",
        "    image = image.view(-1, 28*28).to(device)\n",
        "\n",
        "    # 推論\n",
        "    prediction_label = torch.argmax(model(image))\n",
        "\n",
        "    ax = plt.subplot(1, 10, i+1)\n",
        "\n",
        "    plt.imshow(image.detach().to('cpu').numpy().reshape(28, 28), cmap='gray')\n",
        "    ax.axis('off')\n",
        "    ax.set_title('label : {}\\n Prediction : {}'.format(label, prediction_label), fontsize=15)\n",
        "plt.show()\n"
      ],
      "metadata": {
        "colab": {
          "base_uri": "https://localhost:8080/",
          "height": 181
        },
        "id": "HZqwbbmULOHX",
        "outputId": "d8083a6d-5419-4f8a-913f-022a9497cb7e"
      },
      "execution_count": 75,
      "outputs": [
        {
          "output_type": "display_data",
          "data": {
            "text/plain": [
              "<Figure size 2000x1000 with 10 Axes>"
            ],
            "image/png": "[encoded data removed]"
          },
          "metadata": {}
        }
      ]
    },
    {
      "cell_type": "code",
      "source": [
        "correct_estimate = 0\n",
        "incorrect_index_list =[]\n",
        "prediction_label_of_incorrect_index = []\n",
        "\n",
        "for i in range(len(test_dataset)):\n",
        "  image, label = test_dataset[i]\n",
        "  image = image.view(-1, 28*28).to(device)\n",
        "\n",
        "  prediction_label = torch.argmax(model(image))\n",
        "\n",
        "  if prediction_label == label:\n",
        "    correct_estimate += 1\n",
        "  elif len(incorrect_index_list) < 10:\n",
        "    incorrect_index_list.append(i)\n",
        "    prediction_label_of_incorrect_index.append(prediction_label)\n",
        "\n",
        "\n",
        "print(f'正解数:{correct_estimate}　テストデータ総数:{len(test_dataset)}　正解率:{correct_estimate/len(test_dataset)}')\n",
        "#訓練しなおすとほんの少しだけ正解数が変動するはず"
      ],
      "metadata": {
        "colab": {
          "base_uri": "https://localhost:8080/"
        },
        "id": "mUBt3ALaLPfk",
        "outputId": "4cbdffbc-061e-4dfa-8a95-82c0913b4e93"
      },
      "execution_count": 76,
      "outputs": [
        {
          "output_type": "stream",
          "name": "stdout",
          "text": [
            "正解数:9013　テストデータ総数:10000　正解率:0.9013\n"
          ]
        }
      ]
    },
    {
      "cell_type": "code",
      "source": [
        "#誤った予測を立ててしまった画像のうちの10個に対し、予測と正解、画像を表示する。\n",
        "for i in range(len(incorrect_index_list)):\n",
        "  image, label = test_dataset[incorrect_index_list[i]]\n",
        "  ax = plt.subplot(2, 5, i+1)\n",
        "  plt.imshow(image.detach().to('cpu').numpy().reshape(28, 28), cmap='gray')\n",
        "  ax.axis('off')\n",
        "  ax.set_title('label : {}\\n Prediction : {}'.format(label, prediction_label_of_incorrect_index[i]), fontsize=10)\n",
        "plt.show()"
      ],
      "metadata": {
        "colab": {
          "base_uri": "https://localhost:8080/",
          "height": 359
        },
        "id": "mTYx6UNKPoKb",
        "outputId": "f0f0da13-0fdb-41a5-efc3-5aac38dcbc32"
      },
      "execution_count": 77,
      "outputs": [
        {
          "output_type": "display_data",
          "data": {
            "text/plain": [
              "<Figure size 640x480 with 10 Axes>"
            ],
            "image/png": "[encoded data removed]"
          },
          "metadata": {}
        }
      ]
    },
    {
      "cell_type": "markdown",
      "source": [
        "# 5.5 GoogleColabのGPU設定\n",
        "機械学習では大規模なデータセットを用いて学習するため、往々にして大量の計算が必要になる。このような場合、CPUだけに演算させているのでは学習に時間がかかりすぎる。そのため、並列演算が得意な**GPU**を使いたい。GoogleColabには、無料のGPU環境が整備されている。\n",
        "\n",
        "1. 「編集」タブを開く\n",
        "2. 「ノートブックの設定」をクリック\n",
        "3. 「ハードウェアアクセラレータ」から、T4GPUを選択。\n",
        "4. 保存する\n",
        "\n",
        "これで、GPUを使うことができる。\n",
        "\n",
        "次のコードを実行してみよう。GPU設定済ならTrue, そうでなければFalseが返される。"
      ],
      "metadata": {
        "id": "E_eUz6dSTwAz"
      }
    },
    {
      "cell_type": "code",
      "source": [
        "print(torch.cuda.is_available())"
      ],
      "metadata": {
        "colab": {
          "base_uri": "https://localhost:8080/"
        },
        "id": "L4kGb-jYcTGw",
        "outputId": "c71b61f5-d1b8-44a2-afab-9999d343f80b"
      },
      "execution_count": 78,
      "outputs": [
        {
          "output_type": "stream",
          "name": "stdout",
          "text": [
            "True\n"
          ]
        }
      ]
    },
    {
      "cell_type": "markdown",
      "source": [
        "# 5.6 演習問題\n",
        "##[注意]課題1と課題2ではノートブックを分けてください\n",
        "### 課題1[必須課題]\n",
        "上の例では、MNISTデータセットを用いて予測器を訓練した。用いるデータセットをFashionMNISTデータセットに変更して訓練せよ。(サンプルコードを動かすだけでよい)\n",
        "\n",
        "### 課題2[任意課題]\n",
        "サンプルコードでは、活性化関数にReLUを使っている。これを別の活性化関数に変更することで結果がどう変わったか（またはさほど変わらなかったか）説明せよ。\n",
        "\n",
        "参考:https://qiita.com/sudominoru/items/1c6dbf390da9a90f2c17\n",
        "\n",
        "### 課題3[任意課題]\n",
        "なぜ多種類の活性化関数が存在するのか。以下の記事を読んでみよう！\n",
        "\n",
        "https://ai-scholar.tech/articles/survey/activation-functions-review\n"
      ],
      "metadata": {
        "id": "WnesVFflHe_d"
      }
    },
    {
      "cell_type": "markdown",
      "source": [
        "以下、FashionMNISTの説明\n",
        "\n",
        "FashionMNISTデータセットには、MNISTと同様に画像データが格納されている。違いとしては、画像として保存されているものが\n",
        "\n",
        "\n",
        "*   MNIST : 0～9の手書き数字\n",
        "*   FashionMNIST : 10種類の衣類\n",
        "\n",
        "である。\n",
        "\n"
      ],
      "metadata": {
        "id": "YTF8UZh38A55"
      }
    }
  ]
}