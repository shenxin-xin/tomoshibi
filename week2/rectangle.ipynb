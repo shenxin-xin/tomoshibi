{
  "nbformat": 4,
  "nbformat_minor": 0,
  "metadata": {
    "colab": {
      "provenance": []
    },
    "kernelspec": {
      "name": "python3",
      "display_name": "Python 3"
    },
    "language_info": {
      "name": "python"
    }
  },
  "cells": [
    {
      "cell_type": "code",
      "execution_count": 1,
      "metadata": {
        "colab": {
          "base_uri": "https://localhost:8080/"
        },
        "id": "li3K1boyfXSh",
        "outputId": "7ff639f9-b680-4afc-e2bc-1649ffc4347f"
      },
      "outputs": [
        {
          "output_type": "stream",
          "name": "stdout",
          "text": [
            "長方形1の面積:200\n",
            "長方形1の周囲長:60\n",
            "長方形2の面積:600\n",
            "長方形2の周囲長:100\n"
          ]
        }
      ],
      "source": [
        "class Rectangle:\n",
        "  def __init__(self, name, width, height):\n",
        "    self.name = name\n",
        "    self.width = width\n",
        "    self.height = height\n",
        "\n",
        "  def area(self):\n",
        "    print(f\"{self.name}の面積:{self.width * self.height}\")\n",
        "\n",
        "  def perimeter(self):\n",
        "    print(f\"{self.name}の周囲長:{self.width * 2 + self.height * 2}\")\n",
        "\n",
        "r1 = Rectangle(\"長方形1\", 10, 20)\n",
        "r2 = Rectangle(\"長方形2\", 20, 30)\n",
        "\n",
        "r1.area()\n",
        "r1.perimeter()\n",
        "r2.area()\n",
        "r2.perimeter()\n"
      ]
    },
    {
      "cell_type": "code",
      "source": [
        "class Square(Rectangle):\n",
        "  def __init__(self, name, width):\n",
        "    super().__init__(name, width, width)\n",
        "\n",
        "s1 = Square(\"正方形1\", 10)\n",
        "s2 = Square(\"正方形2\", 20)\n",
        "\n",
        "s1.area()\n",
        "s2.area()\n",
        "s1.perimeter()\n",
        "s2.perimeter()"
      ],
      "metadata": {
        "colab": {
          "base_uri": "https://localhost:8080/"
        },
        "id": "KhzIOLPLjidm",
        "outputId": "aa17cb3d-7e52-4bca-c30c-ce9eea892af0"
      },
      "execution_count": 4,
      "outputs": [
        {
          "output_type": "stream",
          "name": "stdout",
          "text": [
            "正方形1の面積:100\n",
            "正方形2の面積:400\n",
            "正方形1の周囲長:40\n",
            "正方形2の周囲長:80\n"
          ]
        }
      ]
    }
  ]
}