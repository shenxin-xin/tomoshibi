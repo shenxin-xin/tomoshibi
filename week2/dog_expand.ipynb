{
  "nbformat": 4,
  "nbformat_minor": 0,
  "metadata": {
    "colab": {
      "provenance": []
    },
    "kernelspec": {
      "name": "python3",
      "display_name": "Python 3"
    },
    "language_info": {
      "name": "python"
    }
  },
  "cells": [
    {
      "cell_type": "code",
      "execution_count": 3,
      "metadata": {
        "colab": {
          "base_uri": "https://localhost:8080/"
        },
        "id": "fChmx-sDWcMV",
        "outputId": "245f1ce6-4da9-482d-85d7-0beadcf50fd5"
      },
      "outputs": [
        {
          "output_type": "stream",
          "name": "stdout",
          "text": [
            "ポチがワン！と吠えます。\n",
            "シロがワン！と吠えます。\n",
            "ポチの好物は飴です。\n",
            "シロの好物はマシュマロです。\n"
          ]
        }
      ],
      "source": [
        "# Dogクラスの定義(favorite属性とlikeメソッドを追加してください)\n",
        "class Dog:\n",
        "    def __init__(self, name, age, favorite):\n",
        "        self.name = name\n",
        "        self.age = age\n",
        "        self.favorite = favorite\n",
        "\n",
        "    def bark(self):\n",
        "      print(f\"{self.name}がワン！と吠えます。\")\n",
        "\n",
        "    def like(self):\n",
        "      print(f\"{self.name}の好物は{self.favorite}です。\")\n",
        "\n",
        "# Dogクラスのインスタンスを作成 (適切な初期化を行ってください)\n",
        "pochi = Dog(\"ポチ\", 3, \"飴\")\n",
        "shiro = Dog(\"シロ\", 5, \"マシュマロ\")\n",
        "\n",
        "# インスタンスのメソッドを呼び出す\n",
        "pochi.bark()  # 出力: ポチがワン！と吠えます。\n",
        "shiro.bark()  # 出力: シロがワン！と吠えます。\n",
        "\n",
        "pochi.like()\n",
        "shiro.like()"
      ]
    }
  ]
}