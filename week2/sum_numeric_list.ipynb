{
  "nbformat": 4,
  "nbformat_minor": 0,
  "metadata": {
    "colab": {
      "provenance": []
    },
    "kernelspec": {
      "name": "python3",
      "display_name": "Python 3"
    },
    "language_info": {
      "name": "python"
    }
  },
  "cells": [
    {
      "cell_type": "code",
      "execution_count": 3,
      "metadata": {
        "colab": {
          "base_uri": "https://localhost:8080/"
        },
        "id": "_TgvJretcxaf",
        "outputId": "b047c416-6e7a-4eef-e466-29c740343e49"
      },
      "outputs": [
        {
          "output_type": "stream",
          "name": "stdout",
          "text": [
            "リスト1の合計: 15\n",
            "無効な値が含まれています：hello\n",
            "無効な値が含まれています：world\n",
            "リスト2の合計: 9\n"
          ]
        }
      ],
      "source": [
        "def sum_numeric_list(data):\n",
        "    total = 0\n",
        "    for item in data:\n",
        "      try:\n",
        "        total += int(item)\n",
        "      except ValueError:\n",
        "        print(f\"無効な値が含まれています：{item}\")\n",
        "\n",
        "    return total\n",
        "\n",
        "test_list1 = [1, 2, 3, 4, 5]\n",
        "test_list2 = [1, \"hello\", 3, \"world\", 5]\n",
        "print(f\"リスト1の合計: {sum_numeric_list(test_list1)}\")\n",
        "print(f\"リスト2の合計: {sum_numeric_list(test_list2)}\")"
      ]
    }
  ]
}